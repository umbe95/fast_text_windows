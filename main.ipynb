{
 "cells": [
  {
   "cell_type": "code",
   "execution_count": 1,
   "metadata": {},
   "outputs": [],
   "source": [
    "import fasttext"
   ]
  },
  {
   "cell_type": "code",
   "execution_count": 2,
   "metadata": {},
   "outputs": [
    {
     "name": "stderr",
     "output_type": "stream",
     "text": [
      "Warning : `load_model` does not return WordVectorModel or SupervisedModel any more, but a `FastText` object which is very similar.\n"
     ]
    }
   ],
   "source": [
    "model = fasttext.load_model(\"lid.176.bin\")"
   ]
  },
  {
   "cell_type": "code",
   "execution_count": null,
   "metadata": {},
   "outputs": [],
   "source": [
    "print(model.words)"
   ]
  },
  {
   "cell_type": "code",
   "execution_count": 5,
   "metadata": {},
   "outputs": [
    {
     "name": "stdout",
     "output_type": "stream",
     "text": [
      "['__label__en', '__label__ru', '__label__de', '__label__fr', '__label__it', '__label__ja', '__label__es', '__label__ceb', '__label__tr', '__label__pt', '__label__uk', '__label__eo', '__label__pl', '__label__sv', '__label__nl', '__label__he', '__label__zh', '__label__hu', '__label__ar', '__label__ca', '__label__fi', '__label__cs', '__label__fa', '__label__sr', '__label__el', '__label__vi', '__label__bg', '__label__ko', '__label__no', '__label__mk', '__label__ro', '__label__id', '__label__th', '__label__hy', '__label__da', '__label__ta', '__label__hi', '__label__hr', '__label__sh', '__label__be', '__label__ka', '__label__te', '__label__kk', '__label__war', '__label__lt', '__label__gl', '__label__sk', '__label__bn', '__label__eu', '__label__sl', '__label__kn', '__label__ml', '__label__mr', '__label__et', '__label__az', '__label__ms', '__label__sq', '__label__la', '__label__bs', '__label__nn', '__label__ur', '__label__lv', '__label__my', '__label__tt', '__label__af', '__label__oc', '__label__nds', '__label__ky', '__label__ast', '__label__tl', '__label__is', '__label__ia', '__label__si', '__label__gu', '__label__km', '__label__br', '__label__ba', '__label__uz', '__label__bo', '__label__pa', '__label__vo', '__label__als', '__label__ne', '__label__cy', '__label__jbo', '__label__fy', '__label__mn', '__label__lb', '__label__ce', '__label__ug', '__label__tg', '__label__sco', '__label__sa', '__label__cv', '__label__jv', '__label__min', '__label__io', '__label__or', '__label__as', '__label__new', '__label__ga', '__label__mg', '__label__an', '__label__ckb', '__label__sw', '__label__bar', '__label__lmo', '__label__yi', '__label__arz', '__label__mhr', '__label__azb', '__label__sah', '__label__pnb', '__label__su', '__label__bpy', '__label__pms', '__label__ilo', '__label__wuu', '__label__ku', '__label__ps', '__label__ie', '__label__xmf', '__label__yue', '__label__gom', '__label__li', '__label__mwl', '__label__kw', '__label__sd', '__label__hsb', '__label__scn', '__label__gd', '__label__pam', '__label__bh', '__label__mai', '__label__vec', '__label__mt', '__label__dv', '__label__wa', '__label__mzn', '__label__am', '__label__qu', '__label__eml', '__label__cbk', '__label__tk', '__label__rm', '__label__os', '__label__vls', '__label__yo', '__label__lo', '__label__lez', '__label__so', '__label__myv', '__label__diq', '__label__mrj', '__label__dsb', '__label__frr', '__label__ht', '__label__gn', '__label__bxr', '__label__kv', '__label__sc', '__label__nah', '__label__krc', '__label__bcl', '__label__nap', '__label__gv', '__label__av', '__label__rue', '__label__xal', '__label__pfl', '__label__dty', '__label__hif', '__label__co', '__label__lrc', '__label__vep', '__label__tyv']\n"
     ]
    }
   ],
   "source": [
    "print(model.labels)"
   ]
  },
  {
   "cell_type": "code",
   "execution_count": 7,
   "metadata": {},
   "outputs": [
    {
     "data": {
      "text/plain": [
       "(('__label__en',), array([0.94782907]))"
      ]
     },
     "execution_count": 7,
     "metadata": {},
     "output_type": "execute_result"
    }
   ],
   "source": [
    "model.predict(\"Which baking dish is best to bake a banana bread ?\")"
   ]
  }
 ],
 "metadata": {
  "kernelspec": {
   "display_name": "Python 3.10.4 ('venv': venv)",
   "language": "python",
   "name": "python3"
  },
  "language_info": {
   "codemirror_mode": {
    "name": "ipython",
    "version": 3
   },
   "file_extension": ".py",
   "mimetype": "text/x-python",
   "name": "python",
   "nbconvert_exporter": "python",
   "pygments_lexer": "ipython3",
   "version": "3.10.4"
  },
  "orig_nbformat": 4,
  "vscode": {
   "interpreter": {
    "hash": "631dc769bd4051a096bcbaca304aa4185e9ee21f70e4a2e892c3b532b7ffcc98"
   }
  }
 },
 "nbformat": 4,
 "nbformat_minor": 2
}
